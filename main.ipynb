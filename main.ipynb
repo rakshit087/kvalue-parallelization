{
 "cells": [
  {
   "cell_type": "markdown",
   "source": [
    "# Research on Parallelization of finding K Value Algorithms\n",
    "The objective of this project is to compare different algorithms for finding optimal K Value, and compare their performances after parallelization and how much impact parallelization has on these algorithms."
   ],
   "metadata": {
    "collapsed": false
   }
  },
  {
   "cell_type": "markdown",
   "source": [
    "## The K Means Algorithm\n",
    "A clustering algorithm is a process of dividing a physical or abstract object into a collection of similar objects. A cluster is a collection of data objects; objects in the same cluster are like each other and different from objects in other clusters\n",
    "I K Means Clustering\n",
    "1.  Specify number of clusters K.\n",
    "2. Randomly select k data points. These data points are called centroids.\n",
    "3. Measure the distance of first data point with all centroids.\n",
    "4. Assign the data point to the nearest cluster.\n",
    "5. Repeat 3 and 4 for all points.\n",
    "6. Calculate Mean of each cluster.\n",
    "7. Make these means new centroids.\n",
    "8. We repeat the process until taking mean no longer effects our clusters.\n",
    "\n"
   ],
   "metadata": {
    "collapsed": false
   }
  },
  {
   "cell_type": "markdown",
   "source": [
    "## K Means Implementation"
   ],
   "metadata": {
    "collapsed": false
   }
  },
  {
   "cell_type": "markdown",
   "source": [
    "#### Importing Dependencies"
   ],
   "metadata": {
    "collapsed": false
   }
  },
  {
   "cell_type": "code",
   "execution_count": 4,
   "metadata": {
    "collapsed": true
   },
   "outputs": [],
   "source": [
    "import numpy as np\n",
    "import  pandas as pd\n",
    "import matplotlib.pyplot as plt\n",
    "import seaborn as sns"
   ]
  },
  {
   "cell_type": "markdown",
   "source": [
    "#### Making Class for K Means"
   ],
   "metadata": {
    "collapsed": false
   }
  },
  {
   "cell_type": "code",
   "execution_count": null,
   "outputs": [],
   "source": [],
   "metadata": {
    "collapsed": false,
    "pycharm": {
     "name": "#%%\n"
    }
   }
  }
 ],
 "metadata": {
  "kernelspec": {
   "display_name": "Python 3",
   "language": "python",
   "name": "python3"
  },
  "language_info": {
   "codemirror_mode": {
    "name": "ipython",
    "version": 2
   },
   "file_extension": ".py",
   "mimetype": "text/x-python",
   "name": "python",
   "nbconvert_exporter": "python",
   "pygments_lexer": "ipython2",
   "version": "2.7.6"
  }
 },
 "nbformat": 4,
 "nbformat_minor": 0
}